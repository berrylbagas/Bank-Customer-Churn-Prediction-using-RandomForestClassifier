{
 "cells": [
  {
   "cell_type": "markdown",
   "metadata": {
    "id": "2YttQyvt8Rlp"
   },
   "source": [
    "# **Bank Customer Churn Prediction**"
   ]
  },
  {
   "cell_type": "markdown",
   "metadata": {
    "id": "2qFNbHE78bcB"
   },
   "source": [
    "\n",
    "\n",
    "> Nama: Berryl Bagas Wirawan\n",
    "\n",
    "\n",
    "> Bahasa Pemrograman: Python\n",
    "\n",
    "\n",
    "\n"
   ]
  },
  {
   "cell_type": "markdown",
   "metadata": {
    "id": "VHRgTCn5mwH8"
   },
   "source": [
    "# Data Understanding"
   ]
  },
  {
   "cell_type": "markdown",
   "metadata": {
    "id": "Rj7Vs7y_nu0J"
   },
   "source": [
    "## Introduction to Dataset"
   ]
  },
  {
   "cell_type": "code",
   "execution_count": 106,
   "metadata": {
    "executionInfo": {
     "elapsed": 1191,
     "status": "ok",
     "timestamp": 1638792692058,
     "user": {
      "displayName": "006_Berryl Bagas",
      "photoUrl": "https://lh3.googleusercontent.com/a-/AOh14GiDZMNEtuSWWuS-fsix3MeuvW88AemkkLEu8OFTyg=s64",
      "userId": "09798621404980976797"
     },
     "user_tz": -420
    },
    "id": "CGzqh82hmU1s"
   },
   "outputs": [],
   "source": [
    "import numpy as np\n",
    "import pandas as pd\n",
    "import matplotlib.pyplot as plt\n",
    "import seaborn as sns"
   ]
  },
  {
   "cell_type": "code",
   "execution_count": 2,
   "metadata": {
    "executionInfo": {
     "elapsed": 412,
     "status": "ok",
     "timestamp": 1638779272807,
     "user": {
      "displayName": "006_Berryl Bagas",
      "photoUrl": "https://lh3.googleusercontent.com/a-/AOh14GiDZMNEtuSWWuS-fsix3MeuvW88AemkkLEu8OFTyg=s64",
      "userId": "09798621404980976797"
     },
     "user_tz": -420
    },
    "id": "oQ4dO1wx01OQ"
   },
   "outputs": [],
   "source": [
    "import warnings\n",
    "warnings.filterwarnings('ignore')"
   ]
  },
  {
   "cell_type": "code",
   "execution_count": 129,
   "metadata": {
    "colab": {
     "base_uri": "https://localhost:8080/",
     "height": 206
    },
    "executionInfo": {
     "elapsed": 749,
     "status": "ok",
     "timestamp": 1638795259751,
     "user": {
      "displayName": "006_Berryl Bagas",
      "photoUrl": "https://lh3.googleusercontent.com/a-/AOh14GiDZMNEtuSWWuS-fsix3MeuvW88AemkkLEu8OFTyg=s64",
      "userId": "09798621404980976797"
     },
     "user_tz": -420
    },
    "id": "8TVjxmD2njWo",
    "outputId": "f17ec09e-a9cb-4461-a8c0-eac382dda0ea"
   },
   "outputs": [
    {
     "data": {
      "text/html": [
       "<div>\n",
       "<style scoped>\n",
       "    .dataframe tbody tr th:only-of-type {\n",
       "        vertical-align: middle;\n",
       "    }\n",
       "\n",
       "    .dataframe tbody tr th {\n",
       "        vertical-align: top;\n",
       "    }\n",
       "\n",
       "    .dataframe thead th {\n",
       "        text-align: right;\n",
       "    }\n",
       "</style>\n",
       "<table border=\"1\" class=\"dataframe\">\n",
       "  <thead>\n",
       "    <tr style=\"text-align: right;\">\n",
       "      <th></th>\n",
       "      <th>RowNumber</th>\n",
       "      <th>CustomerId</th>\n",
       "      <th>Surname</th>\n",
       "      <th>CreditScore</th>\n",
       "      <th>Geography</th>\n",
       "      <th>Gender</th>\n",
       "      <th>Age</th>\n",
       "      <th>Tenure</th>\n",
       "      <th>Balance</th>\n",
       "      <th>NumOfProducts</th>\n",
       "      <th>HasCrCard</th>\n",
       "      <th>IsActiveMember</th>\n",
       "      <th>EstimatedSalary</th>\n",
       "      <th>Exited</th>\n",
       "    </tr>\n",
       "  </thead>\n",
       "  <tbody>\n",
       "    <tr>\n",
       "      <th>0</th>\n",
       "      <td>1</td>\n",
       "      <td>15634602</td>\n",
       "      <td>Hargrave</td>\n",
       "      <td>619</td>\n",
       "      <td>France</td>\n",
       "      <td>Female</td>\n",
       "      <td>42</td>\n",
       "      <td>2</td>\n",
       "      <td>0.00</td>\n",
       "      <td>1</td>\n",
       "      <td>1</td>\n",
       "      <td>1</td>\n",
       "      <td>101348.88</td>\n",
       "      <td>1</td>\n",
       "    </tr>\n",
       "    <tr>\n",
       "      <th>1</th>\n",
       "      <td>2</td>\n",
       "      <td>15647311</td>\n",
       "      <td>Hill</td>\n",
       "      <td>608</td>\n",
       "      <td>Spain</td>\n",
       "      <td>Female</td>\n",
       "      <td>41</td>\n",
       "      <td>1</td>\n",
       "      <td>83807.86</td>\n",
       "      <td>1</td>\n",
       "      <td>0</td>\n",
       "      <td>1</td>\n",
       "      <td>112542.58</td>\n",
       "      <td>0</td>\n",
       "    </tr>\n",
       "    <tr>\n",
       "      <th>2</th>\n",
       "      <td>3</td>\n",
       "      <td>15619304</td>\n",
       "      <td>Onio</td>\n",
       "      <td>502</td>\n",
       "      <td>France</td>\n",
       "      <td>Female</td>\n",
       "      <td>42</td>\n",
       "      <td>8</td>\n",
       "      <td>159660.80</td>\n",
       "      <td>3</td>\n",
       "      <td>1</td>\n",
       "      <td>0</td>\n",
       "      <td>113931.57</td>\n",
       "      <td>1</td>\n",
       "    </tr>\n",
       "    <tr>\n",
       "      <th>3</th>\n",
       "      <td>4</td>\n",
       "      <td>15701354</td>\n",
       "      <td>Boni</td>\n",
       "      <td>699</td>\n",
       "      <td>France</td>\n",
       "      <td>Female</td>\n",
       "      <td>39</td>\n",
       "      <td>1</td>\n",
       "      <td>0.00</td>\n",
       "      <td>2</td>\n",
       "      <td>0</td>\n",
       "      <td>0</td>\n",
       "      <td>93826.63</td>\n",
       "      <td>0</td>\n",
       "    </tr>\n",
       "    <tr>\n",
       "      <th>4</th>\n",
       "      <td>5</td>\n",
       "      <td>15737888</td>\n",
       "      <td>Mitchell</td>\n",
       "      <td>850</td>\n",
       "      <td>Spain</td>\n",
       "      <td>Female</td>\n",
       "      <td>43</td>\n",
       "      <td>2</td>\n",
       "      <td>125510.82</td>\n",
       "      <td>1</td>\n",
       "      <td>1</td>\n",
       "      <td>1</td>\n",
       "      <td>79084.10</td>\n",
       "      <td>0</td>\n",
       "    </tr>\n",
       "  </tbody>\n",
       "</table>\n",
       "</div>"
      ],
      "text/plain": [
       "   RowNumber  CustomerId   Surname  ...  IsActiveMember EstimatedSalary Exited\n",
       "0          1    15634602  Hargrave  ...               1       101348.88      1\n",
       "1          2    15647311      Hill  ...               1       112542.58      0\n",
       "2          3    15619304      Onio  ...               0       113931.57      1\n",
       "3          4    15701354      Boni  ...               0        93826.63      0\n",
       "4          5    15737888  Mitchell  ...               1        79084.10      0\n",
       "\n",
       "[5 rows x 14 columns]"
      ]
     },
     "execution_count": 129,
     "metadata": {},
     "output_type": "execute_result"
    }
   ],
   "source": [
    "df=pd.read_csv(\"/content/Dataset_9 - Banking.csv\")\n",
    "df.head()"
   ]
  },
  {
   "cell_type": "markdown",
   "metadata": {
    "id": "BwCjnHt4oHES"
   },
   "source": [
    "**Data:**\n",
    "\n",
    "1.) RowNumber: Nomor record pada dataset\n",
    "\n",
    "2.) CustomerID: ID nasabah.\n",
    "\n",
    "3.) Surname: Nama nasabah.\n",
    "\n",
    "4.) CreditScore: Skor kredit nasabah.\n",
    "\n",
    "5.) Geography: Tempat tinggal nasabah.\n",
    "\n",
    "6.) Gender: Jenis kelamin nasabah.\n",
    "\n",
    "7.) Age: Umur nasabah.\n",
    "\n",
    "8.) Tenure: Lamanya menjadi nasabah (dalam tahun).\n",
    "\n",
    "9.) Balance: Indikator churn pelanggan yang sangat baik.\n",
    "\n",
    "10.) NumOfProducts: Jumlah produk bank.\n",
    "\n",
    "11.) HasCrCard: Nasabah memiliki kartu kredit atau tidak.\n",
    "\n",
    "12.) IsActiveMember: Nasabah aktif atau tidak.\n",
    "\n",
    "13.) EstimatedSalary: Estimasi penghasilan.\n",
    "\n",
    "14.) Exited: Nasabah meninggalkan bank (Churn) atau tidak"
   ]
  },
  {
   "cell_type": "markdown",
   "metadata": {
    "id": "h2wFzHyVnzFO"
   },
   "source": [
    "## Business Problem"
   ]
  },
  {
   "cell_type": "markdown",
   "metadata": {
    "id": "c9_FVEXzp_5h"
   },
   "source": [
    "\n",
    "\n",
    "1.  Bagaimana karakteristik user bank yang mengalami churn?\n",
    "2.  Bagaimana cara untuk memprediksi keputusan user bank untuk churn?\n",
    "\n"
   ]
  },
  {
   "cell_type": "markdown",
   "metadata": {
    "id": "E0idwjsQm4Ew"
   },
   "source": [
    "# Data Preparation"
   ]
  },
  {
   "cell_type": "markdown",
   "metadata": {
    "id": "dOc7W_EiqhCd"
   },
   "source": [
    "## Check Missing Value"
   ]
  },
  {
   "cell_type": "code",
   "execution_count": 11,
   "metadata": {
    "colab": {
     "base_uri": "https://localhost:8080/"
    },
    "executionInfo": {
     "elapsed": 525,
     "status": "ok",
     "timestamp": 1638779426586,
     "user": {
      "displayName": "006_Berryl Bagas",
      "photoUrl": "https://lh3.googleusercontent.com/a-/AOh14GiDZMNEtuSWWuS-fsix3MeuvW88AemkkLEu8OFTyg=s64",
      "userId": "09798621404980976797"
     },
     "user_tz": -420
    },
    "id": "fyQU50vuqsho",
    "outputId": "98f7ea79-4da6-4df3-a132-6996588bb1e0"
   },
   "outputs": [
    {
     "data": {
      "text/plain": [
       "RowNumber          0\n",
       "CustomerId         0\n",
       "Surname            0\n",
       "CreditScore        0\n",
       "Geography          0\n",
       "Gender             0\n",
       "Age                0\n",
       "Tenure             0\n",
       "Balance            0\n",
       "NumOfProducts      0\n",
       "HasCrCard          0\n",
       "IsActiveMember     0\n",
       "EstimatedSalary    0\n",
       "Exited             0\n",
       "dtype: int64"
      ]
     },
     "execution_count": 11,
     "metadata": {},
     "output_type": "execute_result"
    }
   ],
   "source": [
    "df.isnull().sum(axis=0)"
   ]
  },
  {
   "cell_type": "markdown",
   "metadata": {
    "id": "7iulE5Dkqtie"
   },
   "source": [
    "Tidak ada missing value pada dataset ini."
   ]
  },
  {
   "cell_type": "markdown",
   "metadata": {
    "id": "2JXunQYPqkvi"
   },
   "source": [
    "## Check Datatype"
   ]
  },
  {
   "cell_type": "code",
   "execution_count": 10,
   "metadata": {
    "colab": {
     "base_uri": "https://localhost:8080/"
    },
    "executionInfo": {
     "elapsed": 769,
     "status": "ok",
     "timestamp": 1638779421494,
     "user": {
      "displayName": "006_Berryl Bagas",
      "photoUrl": "https://lh3.googleusercontent.com/a-/AOh14GiDZMNEtuSWWuS-fsix3MeuvW88AemkkLEu8OFTyg=s64",
      "userId": "09798621404980976797"
     },
     "user_tz": -420
    },
    "id": "6z60AfbAq5bY",
    "outputId": "61f2b032-0441-430b-f134-c75d80aa49a1"
   },
   "outputs": [
    {
     "name": "stdout",
     "output_type": "stream",
     "text": [
      "<class 'pandas.core.frame.DataFrame'>\n",
      "RangeIndex: 10000 entries, 0 to 9999\n",
      "Data columns (total 14 columns):\n",
      " #   Column           Non-Null Count  Dtype  \n",
      "---  ------           --------------  -----  \n",
      " 0   RowNumber        10000 non-null  int64  \n",
      " 1   CustomerId       10000 non-null  int64  \n",
      " 2   Surname          10000 non-null  object \n",
      " 3   CreditScore      10000 non-null  int64  \n",
      " 4   Geography        10000 non-null  object \n",
      " 5   Gender           10000 non-null  object \n",
      " 6   Age              10000 non-null  int64  \n",
      " 7   Tenure           10000 non-null  int64  \n",
      " 8   Balance          10000 non-null  float64\n",
      " 9   NumOfProducts    10000 non-null  int64  \n",
      " 10  HasCrCard        10000 non-null  int64  \n",
      " 11  IsActiveMember   10000 non-null  int64  \n",
      " 12  EstimatedSalary  10000 non-null  float64\n",
      " 13  Exited           10000 non-null  int64  \n",
      "dtypes: float64(2), int64(9), object(3)\n",
      "memory usage: 1.1+ MB\n"
     ]
    }
   ],
   "source": [
    "df.info()"
   ]
  },
  {
   "cell_type": "markdown",
   "metadata": {
    "id": "X485OMW-q6MS"
   },
   "source": [
    "Masih ada beberapa peubah yang memiliki type data object, maka harus diubah ke tipe data numerik atau kategori"
   ]
  },
  {
   "cell_type": "code",
   "execution_count": 108,
   "metadata": {
    "colab": {
     "base_uri": "https://localhost:8080/"
    },
    "executionInfo": {
     "elapsed": 841,
     "status": "ok",
     "timestamp": 1638792705981,
     "user": {
      "displayName": "006_Berryl Bagas",
      "photoUrl": "https://lh3.googleusercontent.com/a-/AOh14GiDZMNEtuSWWuS-fsix3MeuvW88AemkkLEu8OFTyg=s64",
      "userId": "09798621404980976797"
     },
     "user_tz": -420
    },
    "id": "A3zZR9BNrE0n",
    "outputId": "b04a7275-5189-46cd-941c-871c83edf49e"
   },
   "outputs": [
    {
     "name": "stdout",
     "output_type": "stream",
     "text": [
      "<class 'pandas.core.frame.DataFrame'>\n",
      "RangeIndex: 10000 entries, 0 to 9999\n",
      "Data columns (total 14 columns):\n",
      " #   Column           Non-Null Count  Dtype   \n",
      "---  ------           --------------  -----   \n",
      " 0   RowNumber        10000 non-null  category\n",
      " 1   CustomerId       10000 non-null  category\n",
      " 2   Surname          10000 non-null  category\n",
      " 3   CreditScore      10000 non-null  int64   \n",
      " 4   Geography        10000 non-null  category\n",
      " 5   Gender           10000 non-null  category\n",
      " 6   Age              10000 non-null  category\n",
      " 7   Tenure           10000 non-null  int64   \n",
      " 8   Balance          10000 non-null  float64 \n",
      " 9   NumOfProducts    10000 non-null  int64   \n",
      " 10  HasCrCard        10000 non-null  category\n",
      " 11  IsActiveMember   10000 non-null  category\n",
      " 12  EstimatedSalary  10000 non-null  float64 \n",
      " 13  Exited           10000 non-null  category\n",
      "dtypes: category(9), float64(2), int64(3)\n",
      "memory usage: 1.4 MB\n"
     ]
    }
   ],
   "source": [
    "def data_types(data):\n",
    "  nominal = ['RowNumber','CustomerId','Surname','Geography','Gender','HasCrCard','IsActiveMember','Exited']\n",
    "  ordinal = ['Age']\n",
    "  numeric =  ['Tenure','Balance','NumOfProducts','EstimatedSalary']\n",
    "\n",
    "  #convert\n",
    "  data[nominal] = data[nominal].astype( 'category')\n",
    "  data[ordinal] = data[ordinal].astype(  'category')\n",
    "\n",
    "\n",
    "  return data\n",
    "\n",
    "df = data_types(df)\n",
    "df.info()"
   ]
  },
  {
   "cell_type": "markdown",
   "metadata": {
    "id": "P96n8qi7rK-p"
   },
   "source": [
    "Data siap digunakan untuk EDA"
   ]
  },
  {
   "cell_type": "markdown",
   "metadata": {
    "id": "4hwsH3Cnm7-M"
   },
   "source": [
    "# Exploratory Data Analysis"
   ]
  },
  {
   "cell_type": "markdown",
   "metadata": {
    "id": "L-KTIS08rexN"
   },
   "source": [
    "## Data Describe"
   ]
  },
  {
   "cell_type": "code",
   "execution_count": 14,
   "metadata": {
    "colab": {
     "base_uri": "https://localhost:8080/",
     "height": 300
    },
    "executionInfo": {
     "elapsed": 484,
     "status": "ok",
     "timestamp": 1638779613315,
     "user": {
      "displayName": "006_Berryl Bagas",
      "photoUrl": "https://lh3.googleusercontent.com/a-/AOh14GiDZMNEtuSWWuS-fsix3MeuvW88AemkkLEu8OFTyg=s64",
      "userId": "09798621404980976797"
     },
     "user_tz": -420
    },
    "id": "mUIgMoRbrimf",
    "outputId": "492fd54d-0758-4125-c951-c90d8e4400f5"
   },
   "outputs": [
    {
     "data": {
      "text/html": [
       "<div>\n",
       "<style scoped>\n",
       "    .dataframe tbody tr th:only-of-type {\n",
       "        vertical-align: middle;\n",
       "    }\n",
       "\n",
       "    .dataframe tbody tr th {\n",
       "        vertical-align: top;\n",
       "    }\n",
       "\n",
       "    .dataframe thead th {\n",
       "        text-align: right;\n",
       "    }\n",
       "</style>\n",
       "<table border=\"1\" class=\"dataframe\">\n",
       "  <thead>\n",
       "    <tr style=\"text-align: right;\">\n",
       "      <th></th>\n",
       "      <th>CreditScore</th>\n",
       "      <th>Tenure</th>\n",
       "      <th>Balance</th>\n",
       "      <th>NumOfProducts</th>\n",
       "      <th>EstimatedSalary</th>\n",
       "    </tr>\n",
       "  </thead>\n",
       "  <tbody>\n",
       "    <tr>\n",
       "      <th>count</th>\n",
       "      <td>10000.000000</td>\n",
       "      <td>10000.000000</td>\n",
       "      <td>10000.000000</td>\n",
       "      <td>10000.000000</td>\n",
       "      <td>10000.000000</td>\n",
       "    </tr>\n",
       "    <tr>\n",
       "      <th>mean</th>\n",
       "      <td>650.528800</td>\n",
       "      <td>5.012800</td>\n",
       "      <td>76485.889288</td>\n",
       "      <td>1.530200</td>\n",
       "      <td>100090.239881</td>\n",
       "    </tr>\n",
       "    <tr>\n",
       "      <th>std</th>\n",
       "      <td>96.653299</td>\n",
       "      <td>2.892174</td>\n",
       "      <td>62397.405202</td>\n",
       "      <td>0.581654</td>\n",
       "      <td>57510.492818</td>\n",
       "    </tr>\n",
       "    <tr>\n",
       "      <th>min</th>\n",
       "      <td>350.000000</td>\n",
       "      <td>0.000000</td>\n",
       "      <td>0.000000</td>\n",
       "      <td>1.000000</td>\n",
       "      <td>11.580000</td>\n",
       "    </tr>\n",
       "    <tr>\n",
       "      <th>25%</th>\n",
       "      <td>584.000000</td>\n",
       "      <td>3.000000</td>\n",
       "      <td>0.000000</td>\n",
       "      <td>1.000000</td>\n",
       "      <td>51002.110000</td>\n",
       "    </tr>\n",
       "    <tr>\n",
       "      <th>50%</th>\n",
       "      <td>652.000000</td>\n",
       "      <td>5.000000</td>\n",
       "      <td>97198.540000</td>\n",
       "      <td>1.000000</td>\n",
       "      <td>100193.915000</td>\n",
       "    </tr>\n",
       "    <tr>\n",
       "      <th>75%</th>\n",
       "      <td>718.000000</td>\n",
       "      <td>7.000000</td>\n",
       "      <td>127644.240000</td>\n",
       "      <td>2.000000</td>\n",
       "      <td>149388.247500</td>\n",
       "    </tr>\n",
       "    <tr>\n",
       "      <th>max</th>\n",
       "      <td>850.000000</td>\n",
       "      <td>10.000000</td>\n",
       "      <td>250898.090000</td>\n",
       "      <td>4.000000</td>\n",
       "      <td>199992.480000</td>\n",
       "    </tr>\n",
       "  </tbody>\n",
       "</table>\n",
       "</div>"
      ],
      "text/plain": [
       "        CreditScore        Tenure  ...  NumOfProducts  EstimatedSalary\n",
       "count  10000.000000  10000.000000  ...   10000.000000     10000.000000\n",
       "mean     650.528800      5.012800  ...       1.530200    100090.239881\n",
       "std       96.653299      2.892174  ...       0.581654     57510.492818\n",
       "min      350.000000      0.000000  ...       1.000000        11.580000\n",
       "25%      584.000000      3.000000  ...       1.000000     51002.110000\n",
       "50%      652.000000      5.000000  ...       1.000000    100193.915000\n",
       "75%      718.000000      7.000000  ...       2.000000    149388.247500\n",
       "max      850.000000     10.000000  ...       4.000000    199992.480000\n",
       "\n",
       "[8 rows x 5 columns]"
      ]
     },
     "execution_count": 14,
     "metadata": {},
     "output_type": "execute_result"
    }
   ],
   "source": [
    "df.describe()"
   ]
  },
  {
   "cell_type": "markdown",
   "metadata": {
    "id": "QjzcjZB8nE1G"
   },
   "source": [
    "## Exited = 1 (Churn)"
   ]
  },
  {
   "cell_type": "code",
   "execution_count": 131,
   "metadata": {
    "colab": {
     "base_uri": "https://localhost:8080/",
     "height": 143
    },
    "executionInfo": {
     "elapsed": 593,
     "status": "ok",
     "timestamp": 1638795269103,
     "user": {
      "displayName": "006_Berryl Bagas",
      "photoUrl": "https://lh3.googleusercontent.com/a-/AOh14GiDZMNEtuSWWuS-fsix3MeuvW88AemkkLEu8OFTyg=s64",
      "userId": "09798621404980976797"
     },
     "user_tz": -420
    },
    "id": "3WAFWqBNnLsP",
    "outputId": "89bf3625-b88f-40eb-e0be-605df9db1c5b"
   },
   "outputs": [
    {
     "data": {
      "text/html": [
       "<div>\n",
       "<style scoped>\n",
       "    .dataframe tbody tr th:only-of-type {\n",
       "        vertical-align: middle;\n",
       "    }\n",
       "\n",
       "    .dataframe tbody tr th {\n",
       "        vertical-align: top;\n",
       "    }\n",
       "\n",
       "    .dataframe thead th {\n",
       "        text-align: right;\n",
       "    }\n",
       "</style>\n",
       "<table border=\"1\" class=\"dataframe\">\n",
       "  <thead>\n",
       "    <tr style=\"text-align: right;\">\n",
       "      <th></th>\n",
       "      <th>Geography</th>\n",
       "      <th>Exited</th>\n",
       "    </tr>\n",
       "  </thead>\n",
       "  <tbody>\n",
       "    <tr>\n",
       "      <th>0</th>\n",
       "      <td>France</td>\n",
       "      <td>810</td>\n",
       "    </tr>\n",
       "    <tr>\n",
       "      <th>1</th>\n",
       "      <td>Germany</td>\n",
       "      <td>814</td>\n",
       "    </tr>\n",
       "    <tr>\n",
       "      <th>2</th>\n",
       "      <td>Spain</td>\n",
       "      <td>413</td>\n",
       "    </tr>\n",
       "  </tbody>\n",
       "</table>\n",
       "</div>"
      ],
      "text/plain": [
       "  Geography  Exited\n",
       "0    France     810\n",
       "1   Germany     814\n",
       "2     Spain     413"
      ]
     },
     "execution_count": 131,
     "metadata": {},
     "output_type": "execute_result"
    }
   ],
   "source": [
    "df.groupby(['Geography']).agg({'Exited':'sum'}).reset_index()"
   ]
  },
  {
   "cell_type": "code",
   "execution_count": 140,
   "metadata": {
    "colab": {
     "base_uri": "https://localhost:8080/",
     "height": 112
    },
    "executionInfo": {
     "elapsed": 485,
     "status": "ok",
     "timestamp": 1638795531890,
     "user": {
      "displayName": "006_Berryl Bagas",
      "photoUrl": "https://lh3.googleusercontent.com/a-/AOh14GiDZMNEtuSWWuS-fsix3MeuvW88AemkkLEu8OFTyg=s64",
      "userId": "09798621404980976797"
     },
     "user_tz": -420
    },
    "id": "B4cd4LvMuEjx",
    "outputId": "46460dcf-abb4-46d0-829f-845df506f0e8"
   },
   "outputs": [
    {
     "data": {
      "text/html": [
       "<div>\n",
       "<style scoped>\n",
       "    .dataframe tbody tr th:only-of-type {\n",
       "        vertical-align: middle;\n",
       "    }\n",
       "\n",
       "    .dataframe tbody tr th {\n",
       "        vertical-align: top;\n",
       "    }\n",
       "\n",
       "    .dataframe thead th {\n",
       "        text-align: right;\n",
       "    }\n",
       "</style>\n",
       "<table border=\"1\" class=\"dataframe\">\n",
       "  <thead>\n",
       "    <tr style=\"text-align: right;\">\n",
       "      <th></th>\n",
       "      <th>Gender</th>\n",
       "      <th>Exited</th>\n",
       "    </tr>\n",
       "  </thead>\n",
       "  <tbody>\n",
       "    <tr>\n",
       "      <th>0</th>\n",
       "      <td>Female</td>\n",
       "      <td>1139</td>\n",
       "    </tr>\n",
       "    <tr>\n",
       "      <th>1</th>\n",
       "      <td>Male</td>\n",
       "      <td>898</td>\n",
       "    </tr>\n",
       "  </tbody>\n",
       "</table>\n",
       "</div>"
      ],
      "text/plain": [
       "   Gender  Exited\n",
       "0  Female    1139\n",
       "1    Male     898"
      ]
     },
     "execution_count": 140,
     "metadata": {},
     "output_type": "execute_result"
    }
   ],
   "source": [
    "df.groupby(['Gender']).agg({'Exited':'sum'}).reset_index()"
   ]
  },
  {
   "cell_type": "markdown",
   "metadata": {
    "id": "EGTzM2qd09HK"
   },
   "source": [
    "Dapat kita lihat bahwa customer dari negara Spain merupakan customer yang jarang churn, sedangkan untuk gender yang paling banyak mengalami churn yaitu wanita. "
   ]
  },
  {
   "cell_type": "markdown",
   "metadata": {
    "id": "FOuDi5thsa6S"
   },
   "source": [
    "## Correlations"
   ]
  },
  {
   "cell_type": "code",
   "execution_count": 109,
   "metadata": {
    "colab": {
     "base_uri": "https://localhost:8080/",
     "height": 593
    },
    "executionInfo": {
     "elapsed": 913,
     "status": "ok",
     "timestamp": 1638792710983,
     "user": {
      "displayName": "006_Berryl Bagas",
      "photoUrl": "https://lh3.googleusercontent.com/a-/AOh14GiDZMNEtuSWWuS-fsix3MeuvW88AemkkLEu8OFTyg=s64",
      "userId": "09798621404980976797"
     },
     "user_tz": -420
    },
    "id": "OdcxwzqMseC4",
    "outputId": "1b243666-fb0b-4450-9797-ff266469562a"
   },
   "outputs": [
    {
     "data": {
      "image/png": "[encoded data removed]",
      "text/plain": [
       "<Figure size 1296x720 with 2 Axes>"
      ]
     },
     "metadata": {},
     "output_type": "display_data"
    }
   ],
   "source": [
    "corr = df.corr()\n",
    "\n",
    "mask = np.zeros_like(corr)\n",
    "mask[np.triu_indices_from(mask)]=True\n",
    "with sns.axes_style('white'):\n",
    "    fig, ax = plt.subplots(figsize=(18,10))\n",
    "    sns.heatmap(corr,  mask=mask, annot=True, cmap='coolwarm', center=0, square=True)"
   ]
  },
  {
   "cell_type": "code",
   "execution_count": 111,
   "metadata": {
    "colab": {
     "base_uri": "https://localhost:8080/",
     "height": 918
    },
    "executionInfo": {
     "elapsed": 19842,
     "status": "ok",
     "timestamp": 1638792772705,
     "user": {
      "displayName": "006_Berryl Bagas",
      "photoUrl": "https://lh3.googleusercontent.com/a-/AOh14GiDZMNEtuSWWuS-fsix3MeuvW88AemkkLEu8OFTyg=s64",
      "userId": "09798621404980976797"
     },
     "user_tz": -420
    },
    "id": "0xgpGk5zsgR_",
    "outputId": "89d2a901-3cb6-4889-b3ae-a9c4b81fdde1"
   },
   "outputs": [
    {
     "data": {
      "text/plain": [
       "Text(0.5, 0.95, 'Relationship between numerical features')"
      ]
     },
     "execution_count": 111,
     "metadata": {},
     "output_type": "execute_result"
    },
    {
     "data": {
      "image/png": "[encoded data removed]",
      "text/plain": [
       "<Figure size 946.6x900 with 20 Axes>"
      ]
     },
     "metadata": {},
     "output_type": "display_data"
    }
   ],
   "source": [
    "sns.pairplot(df, corner=True, hue='Exited')\n",
    "plt.suptitle(\"Relationship between numerical features\", x=0.5 ,y=0.95, size=18, weight='bold')"
   ]
  },
  {
   "cell_type": "markdown",
   "metadata": {
    "id": "RCZmEyxhvHDq"
   },
   "source": [
    "Dapat kita lihat dari scatterplot di atas, peubah Approved_Conversion ternyata memiliki hubungan linear yang kuat dengan Total_Conversion."
   ]
  },
  {
   "cell_type": "markdown",
   "metadata": {
    "id": "iGjGOJz8nA2J"
   },
   "source": [
    "# Data Preprocessing"
   ]
  },
  {
   "cell_type": "markdown",
   "metadata": {
    "id": "-cWEwsO_vp7h"
   },
   "source": [
    "## Encoder"
   ]
  },
  {
   "cell_type": "code",
   "execution_count": 75,
   "metadata": {
    "colab": {
     "base_uri": "https://localhost:8080/",
     "height": 226
    },
    "executionInfo": {
     "elapsed": 542,
     "status": "ok",
     "timestamp": 1638786370358,
     "user": {
      "displayName": "006_Berryl Bagas",
      "photoUrl": "https://lh3.googleusercontent.com/a-/AOh14GiDZMNEtuSWWuS-fsix3MeuvW88AemkkLEu8OFTyg=s64",
      "userId": "09798621404980976797"
     },
     "user_tz": -420
    },
    "id": "TnEaxdCa4T35",
    "outputId": "4b534f86-8830-444f-f0c7-298f3dd15ec3"
   },
   "outputs": [
    {
     "data": {
      "text/html": [
       "<div>\n",
       "<style scoped>\n",
       "    .dataframe tbody tr th:only-of-type {\n",
       "        vertical-align: middle;\n",
       "    }\n",
       "\n",
       "    .dataframe tbody tr th {\n",
       "        vertical-align: top;\n",
       "    }\n",
       "\n",
       "    .dataframe thead th {\n",
       "        text-align: right;\n",
       "    }\n",
       "</style>\n",
       "<table border=\"1\" class=\"dataframe\">\n",
       "  <thead>\n",
       "    <tr style=\"text-align: right;\">\n",
       "      <th></th>\n",
       "      <th>RowNumber</th>\n",
       "      <th>CustomerId</th>\n",
       "      <th>Surname</th>\n",
       "      <th>CreditScore</th>\n",
       "      <th>Age</th>\n",
       "      <th>Tenure</th>\n",
       "      <th>Balance</th>\n",
       "      <th>NumOfProducts</th>\n",
       "      <th>EstimatedSalary</th>\n",
       "      <th>Exited</th>\n",
       "      <th>Female</th>\n",
       "      <th>Male</th>\n",
       "      <th>France</th>\n",
       "      <th>Germany</th>\n",
       "      <th>Spain</th>\n",
       "      <th>HasCrCard_0</th>\n",
       "      <th>HasCrCard_1</th>\n",
       "      <th>IsActiveMember_0</th>\n",
       "      <th>IsActiveMember_1</th>\n",
       "    </tr>\n",
       "  </thead>\n",
       "  <tbody>\n",
       "    <tr>\n",
       "      <th>0</th>\n",
       "      <td>1</td>\n",
       "      <td>15634602</td>\n",
       "      <td>Hargrave</td>\n",
       "      <td>-0.246269</td>\n",
       "      <td>0.416667</td>\n",
       "      <td>-0.75</td>\n",
       "      <td>-0.761480</td>\n",
       "      <td>0.0</td>\n",
       "      <td>0.011739</td>\n",
       "      <td>1</td>\n",
       "      <td>1</td>\n",
       "      <td>0</td>\n",
       "      <td>1</td>\n",
       "      <td>0</td>\n",
       "      <td>0</td>\n",
       "      <td>0</td>\n",
       "      <td>1</td>\n",
       "      <td>0</td>\n",
       "      <td>1</td>\n",
       "    </tr>\n",
       "    <tr>\n",
       "      <th>1</th>\n",
       "      <td>2</td>\n",
       "      <td>15647311</td>\n",
       "      <td>Hill</td>\n",
       "      <td>-0.328358</td>\n",
       "      <td>0.333333</td>\n",
       "      <td>-1.00</td>\n",
       "      <td>-0.104906</td>\n",
       "      <td>0.0</td>\n",
       "      <td>0.125512</td>\n",
       "      <td>0</td>\n",
       "      <td>1</td>\n",
       "      <td>0</td>\n",
       "      <td>0</td>\n",
       "      <td>0</td>\n",
       "      <td>1</td>\n",
       "      <td>1</td>\n",
       "      <td>0</td>\n",
       "      <td>0</td>\n",
       "      <td>1</td>\n",
       "    </tr>\n",
       "    <tr>\n",
       "      <th>2</th>\n",
       "      <td>3</td>\n",
       "      <td>15619304</td>\n",
       "      <td>Onio</td>\n",
       "      <td>-1.119403</td>\n",
       "      <td>0.416667</td>\n",
       "      <td>0.75</td>\n",
       "      <td>0.489346</td>\n",
       "      <td>2.0</td>\n",
       "      <td>0.139630</td>\n",
       "      <td>1</td>\n",
       "      <td>1</td>\n",
       "      <td>0</td>\n",
       "      <td>1</td>\n",
       "      <td>0</td>\n",
       "      <td>0</td>\n",
       "      <td>0</td>\n",
       "      <td>1</td>\n",
       "      <td>1</td>\n",
       "      <td>0</td>\n",
       "    </tr>\n",
       "    <tr>\n",
       "      <th>3</th>\n",
       "      <td>4</td>\n",
       "      <td>15701354</td>\n",
       "      <td>Boni</td>\n",
       "      <td>0.350746</td>\n",
       "      <td>0.166667</td>\n",
       "      <td>-1.00</td>\n",
       "      <td>-0.761480</td>\n",
       "      <td>1.0</td>\n",
       "      <td>-0.064717</td>\n",
       "      <td>0</td>\n",
       "      <td>1</td>\n",
       "      <td>0</td>\n",
       "      <td>1</td>\n",
       "      <td>0</td>\n",
       "      <td>0</td>\n",
       "      <td>1</td>\n",
       "      <td>0</td>\n",
       "      <td>1</td>\n",
       "      <td>0</td>\n",
       "    </tr>\n",
       "    <tr>\n",
       "      <th>4</th>\n",
       "      <td>5</td>\n",
       "      <td>15737888</td>\n",
       "      <td>Mitchell</td>\n",
       "      <td>1.477612</td>\n",
       "      <td>0.500000</td>\n",
       "      <td>-0.75</td>\n",
       "      <td>0.221806</td>\n",
       "      <td>0.0</td>\n",
       "      <td>-0.214561</td>\n",
       "      <td>0</td>\n",
       "      <td>1</td>\n",
       "      <td>0</td>\n",
       "      <td>0</td>\n",
       "      <td>0</td>\n",
       "      <td>1</td>\n",
       "      <td>0</td>\n",
       "      <td>1</td>\n",
       "      <td>0</td>\n",
       "      <td>1</td>\n",
       "    </tr>\n",
       "  </tbody>\n",
       "</table>\n",
       "</div>"
      ],
      "text/plain": [
       "  RowNumber CustomerId  ... IsActiveMember_0  IsActiveMember_1\n",
       "0         1   15634602  ...                0                 1\n",
       "1         2   15647311  ...                0                 1\n",
       "2         3   15619304  ...                1                 0\n",
       "3         4   15701354  ...                1                 0\n",
       "4         5   15737888  ...                0                 1\n",
       "\n",
       "[5 rows x 19 columns]"
      ]
     },
     "execution_count": 75,
     "metadata": {},
     "output_type": "execute_result"
    }
   ],
   "source": [
    "df.head()"
   ]
  },
  {
   "cell_type": "code",
   "execution_count": 67,
   "metadata": {
    "colab": {
     "base_uri": "https://localhost:8080/",
     "height": 206
    },
    "executionInfo": {
     "elapsed": 647,
     "status": "ok",
     "timestamp": 1638786116205,
     "user": {
      "displayName": "006_Berryl Bagas",
      "photoUrl": "https://lh3.googleusercontent.com/a-/AOh14GiDZMNEtuSWWuS-fsix3MeuvW88AemkkLEu8OFTyg=s64",
      "userId": "09798621404980976797"
     },
     "user_tz": -420
    },
    "id": "IjaU1eMIv1Qi",
    "outputId": "96dc6387-5357-4a7f-aba3-32ada6f14a6b"
   },
   "outputs": [
    {
     "data": {
      "text/html": [
       "<div>\n",
       "<style scoped>\n",
       "    .dataframe tbody tr th:only-of-type {\n",
       "        vertical-align: middle;\n",
       "    }\n",
       "\n",
       "    .dataframe tbody tr th {\n",
       "        vertical-align: top;\n",
       "    }\n",
       "\n",
       "    .dataframe thead th {\n",
       "        text-align: right;\n",
       "    }\n",
       "</style>\n",
       "<table border=\"1\" class=\"dataframe\">\n",
       "  <thead>\n",
       "    <tr style=\"text-align: right;\">\n",
       "      <th></th>\n",
       "      <th>RowNumber</th>\n",
       "      <th>CustomerId</th>\n",
       "      <th>Surname</th>\n",
       "      <th>CreditScore</th>\n",
       "      <th>Age</th>\n",
       "      <th>Tenure</th>\n",
       "      <th>Balance</th>\n",
       "      <th>NumOfProducts</th>\n",
       "      <th>EstimatedSalary</th>\n",
       "      <th>Exited</th>\n",
       "      <th>Female</th>\n",
       "      <th>Male</th>\n",
       "      <th>France</th>\n",
       "      <th>Germany</th>\n",
       "      <th>Spain</th>\n",
       "      <th>HasCrCard_0</th>\n",
       "      <th>HasCrCard_1</th>\n",
       "      <th>IsActiveMember_0</th>\n",
       "      <th>IsActiveMember_1</th>\n",
       "    </tr>\n",
       "  </thead>\n",
       "  <tbody>\n",
       "    <tr>\n",
       "      <th>0</th>\n",
       "      <td>1</td>\n",
       "      <td>15634602</td>\n",
       "      <td>Hargrave</td>\n",
       "      <td>619</td>\n",
       "      <td>42</td>\n",
       "      <td>2</td>\n",
       "      <td>0.00</td>\n",
       "      <td>1</td>\n",
       "      <td>101348.88</td>\n",
       "      <td>1</td>\n",
       "      <td>1</td>\n",
       "      <td>0</td>\n",
       "      <td>1</td>\n",
       "      <td>0</td>\n",
       "      <td>0</td>\n",
       "      <td>0</td>\n",
       "      <td>1</td>\n",
       "      <td>0</td>\n",
       "      <td>1</td>\n",
       "    </tr>\n",
       "    <tr>\n",
       "      <th>1</th>\n",
       "      <td>2</td>\n",
       "      <td>15647311</td>\n",
       "      <td>Hill</td>\n",
       "      <td>608</td>\n",
       "      <td>41</td>\n",
       "      <td>1</td>\n",
       "      <td>83807.86</td>\n",
       "      <td>1</td>\n",
       "      <td>112542.58</td>\n",
       "      <td>0</td>\n",
       "      <td>1</td>\n",
       "      <td>0</td>\n",
       "      <td>0</td>\n",
       "      <td>0</td>\n",
       "      <td>1</td>\n",
       "      <td>1</td>\n",
       "      <td>0</td>\n",
       "      <td>0</td>\n",
       "      <td>1</td>\n",
       "    </tr>\n",
       "    <tr>\n",
       "      <th>2</th>\n",
       "      <td>3</td>\n",
       "      <td>15619304</td>\n",
       "      <td>Onio</td>\n",
       "      <td>502</td>\n",
       "      <td>42</td>\n",
       "      <td>8</td>\n",
       "      <td>159660.80</td>\n",
       "      <td>3</td>\n",
       "      <td>113931.57</td>\n",
       "      <td>1</td>\n",
       "      <td>1</td>\n",
       "      <td>0</td>\n",
       "      <td>1</td>\n",
       "      <td>0</td>\n",
       "      <td>0</td>\n",
       "      <td>0</td>\n",
       "      <td>1</td>\n",
       "      <td>1</td>\n",
       "      <td>0</td>\n",
       "    </tr>\n",
       "    <tr>\n",
       "      <th>3</th>\n",
       "      <td>4</td>\n",
       "      <td>15701354</td>\n",
       "      <td>Boni</td>\n",
       "      <td>699</td>\n",
       "      <td>39</td>\n",
       "      <td>1</td>\n",
       "      <td>0.00</td>\n",
       "      <td>2</td>\n",
       "      <td>93826.63</td>\n",
       "      <td>0</td>\n",
       "      <td>1</td>\n",
       "      <td>0</td>\n",
       "      <td>1</td>\n",
       "      <td>0</td>\n",
       "      <td>0</td>\n",
       "      <td>1</td>\n",
       "      <td>0</td>\n",
       "      <td>1</td>\n",
       "      <td>0</td>\n",
       "    </tr>\n",
       "    <tr>\n",
       "      <th>4</th>\n",
       "      <td>5</td>\n",
       "      <td>15737888</td>\n",
       "      <td>Mitchell</td>\n",
       "      <td>850</td>\n",
       "      <td>43</td>\n",
       "      <td>2</td>\n",
       "      <td>125510.82</td>\n",
       "      <td>1</td>\n",
       "      <td>79084.10</td>\n",
       "      <td>0</td>\n",
       "      <td>1</td>\n",
       "      <td>0</td>\n",
       "      <td>0</td>\n",
       "      <td>0</td>\n",
       "      <td>1</td>\n",
       "      <td>0</td>\n",
       "      <td>1</td>\n",
       "      <td>0</td>\n",
       "      <td>1</td>\n",
       "    </tr>\n",
       "  </tbody>\n",
       "</table>\n",
       "</div>"
      ],
      "text/plain": [
       "  RowNumber CustomerId  ... IsActiveMember_0  IsActiveMember_1\n",
       "0         1   15634602  ...                0                 1\n",
       "1         2   15647311  ...                0                 1\n",
       "2         3   15619304  ...                1                 0\n",
       "3         4   15701354  ...                1                 0\n",
       "4         5   15737888  ...                0                 1\n",
       "\n",
       "[5 rows x 19 columns]"
      ]
     },
     "execution_count": 67,
     "metadata": {},
     "output_type": "execute_result"
    }
   ],
   "source": [
    "import category_encoders as ce\n",
    "def handling_preprocessing(data):\n",
    "\n",
    "  # (nominal)\n",
    "  data = pd.get_dummies(data, columns=['Gender'], prefix='', prefix_sep='')\n",
    "  data = pd.get_dummies(data, columns=['Geography'], prefix='', prefix_sep='')\n",
    "  data = pd.get_dummies(data, columns=['HasCrCard'])\n",
    "  data = pd.get_dummies(data, columns=['IsActiveMember'])\n",
    "\n",
    "  return data\n",
    "df = handling_preprocessing(df)\n",
    "df.head()"
   ]
  },
  {
   "cell_type": "markdown",
   "metadata": {
    "id": "ui0Z9p4IwWtH"
   },
   "source": [
    "## Feature Scalling"
   ]
  },
  {
   "cell_type": "code",
   "execution_count": 68,
   "metadata": {
    "colab": {
     "base_uri": "https://localhost:8080/",
     "height": 226
    },
    "executionInfo": {
     "elapsed": 579,
     "status": "ok",
     "timestamp": 1638786183430,
     "user": {
      "displayName": "006_Berryl Bagas",
      "photoUrl": "https://lh3.googleusercontent.com/a-/AOh14GiDZMNEtuSWWuS-fsix3MeuvW88AemkkLEu8OFTyg=s64",
      "userId": "09798621404980976797"
     },
     "user_tz": -420
    },
    "id": "V3Z53so0wZpK",
    "outputId": "aaa4779e-ff81-4f73-8c66-11f67369c1d5"
   },
   "outputs": [
    {
     "data": {
      "text/html": [
       "<div>\n",
       "<style scoped>\n",
       "    .dataframe tbody tr th:only-of-type {\n",
       "        vertical-align: middle;\n",
       "    }\n",
       "\n",
       "    .dataframe tbody tr th {\n",
       "        vertical-align: top;\n",
       "    }\n",
       "\n",
       "    .dataframe thead th {\n",
       "        text-align: right;\n",
       "    }\n",
       "</style>\n",
       "<table border=\"1\" class=\"dataframe\">\n",
       "  <thead>\n",
       "    <tr style=\"text-align: right;\">\n",
       "      <th></th>\n",
       "      <th>RowNumber</th>\n",
       "      <th>CustomerId</th>\n",
       "      <th>Surname</th>\n",
       "      <th>CreditScore</th>\n",
       "      <th>Age</th>\n",
       "      <th>Tenure</th>\n",
       "      <th>Balance</th>\n",
       "      <th>NumOfProducts</th>\n",
       "      <th>EstimatedSalary</th>\n",
       "      <th>Exited</th>\n",
       "      <th>Female</th>\n",
       "      <th>Male</th>\n",
       "      <th>France</th>\n",
       "      <th>Germany</th>\n",
       "      <th>Spain</th>\n",
       "      <th>HasCrCard_0</th>\n",
       "      <th>HasCrCard_1</th>\n",
       "      <th>IsActiveMember_0</th>\n",
       "      <th>IsActiveMember_1</th>\n",
       "    </tr>\n",
       "  </thead>\n",
       "  <tbody>\n",
       "    <tr>\n",
       "      <th>0</th>\n",
       "      <td>1</td>\n",
       "      <td>15634602</td>\n",
       "      <td>Hargrave</td>\n",
       "      <td>-0.246269</td>\n",
       "      <td>0.416667</td>\n",
       "      <td>-0.75</td>\n",
       "      <td>-0.761480</td>\n",
       "      <td>0.0</td>\n",
       "      <td>0.011739</td>\n",
       "      <td>1</td>\n",
       "      <td>1</td>\n",
       "      <td>0</td>\n",
       "      <td>1</td>\n",
       "      <td>0</td>\n",
       "      <td>0</td>\n",
       "      <td>0</td>\n",
       "      <td>1</td>\n",
       "      <td>0</td>\n",
       "      <td>1</td>\n",
       "    </tr>\n",
       "    <tr>\n",
       "      <th>1</th>\n",
       "      <td>2</td>\n",
       "      <td>15647311</td>\n",
       "      <td>Hill</td>\n",
       "      <td>-0.328358</td>\n",
       "      <td>0.333333</td>\n",
       "      <td>-1.00</td>\n",
       "      <td>-0.104906</td>\n",
       "      <td>0.0</td>\n",
       "      <td>0.125512</td>\n",
       "      <td>0</td>\n",
       "      <td>1</td>\n",
       "      <td>0</td>\n",
       "      <td>0</td>\n",
       "      <td>0</td>\n",
       "      <td>1</td>\n",
       "      <td>1</td>\n",
       "      <td>0</td>\n",
       "      <td>0</td>\n",
       "      <td>1</td>\n",
       "    </tr>\n",
       "    <tr>\n",
       "      <th>2</th>\n",
       "      <td>3</td>\n",
       "      <td>15619304</td>\n",
       "      <td>Onio</td>\n",
       "      <td>-1.119403</td>\n",
       "      <td>0.416667</td>\n",
       "      <td>0.75</td>\n",
       "      <td>0.489346</td>\n",
       "      <td>2.0</td>\n",
       "      <td>0.139630</td>\n",
       "      <td>1</td>\n",
       "      <td>1</td>\n",
       "      <td>0</td>\n",
       "      <td>1</td>\n",
       "      <td>0</td>\n",
       "      <td>0</td>\n",
       "      <td>0</td>\n",
       "      <td>1</td>\n",
       "      <td>1</td>\n",
       "      <td>0</td>\n",
       "    </tr>\n",
       "    <tr>\n",
       "      <th>3</th>\n",
       "      <td>4</td>\n",
       "      <td>15701354</td>\n",
       "      <td>Boni</td>\n",
       "      <td>0.350746</td>\n",
       "      <td>0.166667</td>\n",
       "      <td>-1.00</td>\n",
       "      <td>-0.761480</td>\n",
       "      <td>1.0</td>\n",
       "      <td>-0.064717</td>\n",
       "      <td>0</td>\n",
       "      <td>1</td>\n",
       "      <td>0</td>\n",
       "      <td>1</td>\n",
       "      <td>0</td>\n",
       "      <td>0</td>\n",
       "      <td>1</td>\n",
       "      <td>0</td>\n",
       "      <td>1</td>\n",
       "      <td>0</td>\n",
       "    </tr>\n",
       "    <tr>\n",
       "      <th>4</th>\n",
       "      <td>5</td>\n",
       "      <td>15737888</td>\n",
       "      <td>Mitchell</td>\n",
       "      <td>1.477612</td>\n",
       "      <td>0.500000</td>\n",
       "      <td>-0.75</td>\n",
       "      <td>0.221806</td>\n",
       "      <td>0.0</td>\n",
       "      <td>-0.214561</td>\n",
       "      <td>0</td>\n",
       "      <td>1</td>\n",
       "      <td>0</td>\n",
       "      <td>0</td>\n",
       "      <td>0</td>\n",
       "      <td>1</td>\n",
       "      <td>0</td>\n",
       "      <td>1</td>\n",
       "      <td>0</td>\n",
       "      <td>1</td>\n",
       "    </tr>\n",
       "  </tbody>\n",
       "</table>\n",
       "</div>"
      ],
      "text/plain": [
       "  RowNumber CustomerId  ... IsActiveMember_0  IsActiveMember_1\n",
       "0         1   15634602  ...                0                 1\n",
       "1         2   15647311  ...                0                 1\n",
       "2         3   15619304  ...                1                 0\n",
       "3         4   15701354  ...                1                 0\n",
       "4         5   15737888  ...                0                 1\n",
       "\n",
       "[5 rows x 19 columns]"
      ]
     },
     "execution_count": 68,
     "metadata": {},
     "output_type": "execute_result"
    }
   ],
   "source": [
    "from sklearn.preprocessing import RobustScaler\n",
    "scaler = RobustScaler()\n",
    "df[['Age','CreditScore','Tenure','Balance','NumOfProducts','EstimatedSalary']] = scaler.fit_transform(df[['Age','CreditScore','Tenure','Balance','NumOfProducts','EstimatedSalary']])\n",
    "df.head()"
   ]
  },
  {
   "cell_type": "markdown",
   "metadata": {
    "id": "6IJPbVDvnH5p"
   },
   "source": [
    "# Train Test Split Data"
   ]
  },
  {
   "cell_type": "code",
   "execution_count": 69,
   "metadata": {
    "executionInfo": {
     "elapsed": 2816,
     "status": "ok",
     "timestamp": 1638786192835,
     "user": {
      "displayName": "006_Berryl Bagas",
      "photoUrl": "https://lh3.googleusercontent.com/a-/AOh14GiDZMNEtuSWWuS-fsix3MeuvW88AemkkLEu8OFTyg=s64",
      "userId": "09798621404980976797"
     },
     "user_tz": -420
    },
    "id": "Wb6y2Vq7wwiT"
   },
   "outputs": [],
   "source": [
    "from sklearn.model_selection import train_test_split\n",
    "\n",
    "cols_X = ['CreditScore',\t'Age',\t'Tenure',\t'Balance',\t'NumOfProducts',\t'EstimatedSalary','Female',\n",
    "          'Male',\t'France',\t'Germany',\t'Spain',\t'HasCrCard_0',\t'HasCrCard_1',\t'IsActiveMember_0',\t'IsActiveMember_1'] \n",
    "cols_Y = ['Exited']\n",
    "\n",
    "X = df[cols_X]\n",
    "y = df[cols_Y]\n",
    "\n",
    "x_train, x_test, y_train, y_test =  train_test_split(X, y, test_size = 0.2, random_state = 123)"
   ]
  },
  {
   "cell_type": "markdown",
   "metadata": {
    "id": "8KwL7uuX8g5V"
   },
   "source": [
    "## Imbalance data"
   ]
  },
  {
   "cell_type": "code",
   "execution_count": 70,
   "metadata": {
    "colab": {
     "base_uri": "https://localhost:8080/",
     "height": 301
    },
    "executionInfo": {
     "elapsed": 94,
     "status": "ok",
     "timestamp": 1638786208865,
     "user": {
      "displayName": "006_Berryl Bagas",
      "photoUrl": "https://lh3.googleusercontent.com/a-/AOh14GiDZMNEtuSWWuS-fsix3MeuvW88AemkkLEu8OFTyg=s64",
      "userId": "09798621404980976797"
     },
     "user_tz": -420
    },
    "id": "Ycbm5l_H8kDk",
    "outputId": "ada456d8-0d71-4439-8abb-0c93c53bb5c5"
   },
   "outputs": [
    {
     "data": {
      "image/png": "[encoded data removed]",
      "text/plain": [
       "<Figure size 432x288 with 1 Axes>"
      ]
     },
     "metadata": {},
     "output_type": "display_data"
    }
   ],
   "source": [
    "y_train.value_counts().plot(kind='bar')\n",
    "plt.xticks([0,1],['No','Yes'], rotation=0)\n",
    "plt.title('sum of customer churn')\n",
    "sns.set_theme()"
   ]
  },
  {
   "cell_type": "code",
   "execution_count": 76,
   "metadata": {
    "executionInfo": {
     "elapsed": 789,
     "status": "ok",
     "timestamp": 1638786393637,
     "user": {
      "displayName": "006_Berryl Bagas",
      "photoUrl": "https://lh3.googleusercontent.com/a-/AOh14GiDZMNEtuSWWuS-fsix3MeuvW88AemkkLEu8OFTyg=s64",
      "userId": "09798621404980976797"
     },
     "user_tz": -420
    },
    "id": "2zW6pOiu8mAN"
   },
   "outputs": [],
   "source": [
    "from imblearn.over_sampling import SMOTE\n",
    "smote = SMOTE(sampling_strategy = 1)\n",
    "x_smote, y_smote = smote.fit_resample(x_train,y_train)"
   ]
  },
  {
   "cell_type": "code",
   "execution_count": 61,
   "metadata": {
    "colab": {
     "base_uri": "https://localhost:8080/",
     "height": 301
    },
    "executionInfo": {
     "elapsed": 599,
     "status": "ok",
     "timestamp": 1638786028406,
     "user": {
      "displayName": "006_Berryl Bagas",
      "photoUrl": "https://lh3.googleusercontent.com/a-/AOh14GiDZMNEtuSWWuS-fsix3MeuvW88AemkkLEu8OFTyg=s64",
      "userId": "09798621404980976797"
     },
     "user_tz": -420
    },
    "id": "h0oItKkG8tdT",
    "outputId": "d27b0b2b-5573-47a0-a125-6e1c8e54d2c8"
   },
   "outputs": [
    {
     "data": {
      "image/png": "[encoded data removed]",
      "text/plain": [
       "<Figure size 432x288 with 1 Axes>"
      ]
     },
     "metadata": {},
     "output_type": "display_data"
    }
   ],
   "source": [
    "y_smote.value_counts().plot(kind='bar')\n",
    "plt.xticks([0,1],['No','Yes'], rotation=0)\n",
    "plt.title('sum of customer churn')\n",
    "sns.set_theme()"
   ]
  },
  {
   "cell_type": "markdown",
   "metadata": {
    "id": "T_Peo-6KnML4"
   },
   "source": [
    "# Data Modeling"
   ]
  },
  {
   "cell_type": "markdown",
   "metadata": {
    "id": "cxXsOcB5z0IF"
   },
   "source": [
    "## Model Train-Testing"
   ]
  },
  {
   "cell_type": "code",
   "execution_count": 62,
   "metadata": {
    "executionInfo": {
     "elapsed": 469,
     "status": "ok",
     "timestamp": 1638786033329,
     "user": {
      "displayName": "006_Berryl Bagas",
      "photoUrl": "https://lh3.googleusercontent.com/a-/AOh14GiDZMNEtuSWWuS-fsix3MeuvW88AemkkLEu8OFTyg=s64",
      "userId": "09798621404980976797"
     },
     "user_tz": -420
    },
    "id": "b06RLCQDw2_s"
   },
   "outputs": [],
   "source": [
    "from sklearn.linear_model import LogisticRegression, SGDClassifier\n",
    "from sklearn.svm import LinearSVC, SVC\n",
    "from sklearn.neighbors import KNeighborsClassifier, NearestCentroid\n",
    "from sklearn.ensemble import RandomForestClassifier, GradientBoostingClassifier, AdaBoostClassifier\n",
    "from sklearn.tree import DecisionTreeClassifier\n",
    "from xgboost import XGBClassifier\n",
    "from sklearn.neural_network import MLPClassifier\n",
    "\n",
    "from sklearn.metrics import precision_score,recall_score,f1_score,accuracy_score"
   ]
  },
  {
   "cell_type": "code",
   "execution_count": 77,
   "metadata": {
    "executionInfo": {
     "elapsed": 37771,
     "status": "ok",
     "timestamp": 1638786441030,
     "user": {
      "displayName": "006_Berryl Bagas",
      "photoUrl": "https://lh3.googleusercontent.com/a-/AOh14GiDZMNEtuSWWuS-fsix3MeuvW88AemkkLEu8OFTyg=s64",
      "userId": "09798621404980976797"
     },
     "user_tz": -420
    },
    "id": "LOzi6XhaxABf"
   },
   "outputs": [],
   "source": [
    "ad =  AdaBoostClassifier()\n",
    "ad.fit(x_smote,y_smote) \n",
    "y_jawaban = ad.predict(x_test)\n",
    "ad1 = precision_score(y_test,y_jawaban)\n",
    "ad2 = recall_score(y_test,y_jawaban)\n",
    "ad3 = f1_score(y_test,y_jawaban)\n",
    "ad4 = accuracy_score(y_test,y_jawaban)\n",
    "\n",
    "lr =  LogisticRegression()\n",
    "lr.fit(x_smote,y_smote) \n",
    "y_jawaban = lr.predict(x_test)\n",
    "lr1 = precision_score(y_test,y_jawaban)\n",
    "lr2 = recall_score(y_test,y_jawaban)\n",
    "lr3 = f1_score(y_test,y_jawaban)\n",
    "lr4 = accuracy_score(y_test,y_jawaban)\n",
    "\n",
    "sdg =  SGDClassifier()\n",
    "sdg.fit(x_smote,y_smote) \n",
    "y_jawaban = sdg.predict(x_test)\n",
    "sdg1 = precision_score(y_test,y_jawaban)\n",
    "sdg2 = recall_score(y_test,y_jawaban)\n",
    "sdg3 = f1_score(y_test,y_jawaban)\n",
    "sdg4 = accuracy_score(y_test,y_jawaban)\n",
    "\n",
    "lv =  LinearSVC()\n",
    "lv.fit(x_smote,y_smote) \n",
    "y_jawaban = lv.predict(x_test)\n",
    "lv1 = precision_score(y_test,y_jawaban)\n",
    "lv2 = recall_score(y_test,y_jawaban)\n",
    "lv3 = f1_score(y_test,y_jawaban)\n",
    "lv4 = accuracy_score(y_test,y_jawaban)\n",
    "\n",
    "sv =  SVC()\n",
    "sv.fit(x_smote,y_smote) \n",
    "y_jawaban = sv.predict(x_test)\n",
    "sv1 = precision_score(y_test,y_jawaban)\n",
    "sv2 = recall_score(y_test,y_jawaban)\n",
    "sv3 = f1_score(y_test,y_jawaban)\n",
    "sv4 = accuracy_score(y_test,y_jawaban)\n",
    "\n",
    "knn =  KNeighborsClassifier()\n",
    "knn.fit(x_smote,y_smote) \n",
    "y_jawaban = knn.predict(x_test)\n",
    "knn1 = precision_score(y_test,y_jawaban)\n",
    "knn2 = recall_score(y_test,y_jawaban)\n",
    "knn3 = f1_score(y_test,y_jawaban)\n",
    "knn4 = accuracy_score(y_test,y_jawaban)\n",
    "\n",
    "nc =  NearestCentroid()\n",
    "nc.fit(x_smote,y_smote) \n",
    "y_jawaban = nc.predict(x_test)\n",
    "nc1 = precision_score(y_test,y_jawaban)\n",
    "nc2 = recall_score(y_test,y_jawaban)\n",
    "nc3 = f1_score(y_test,y_jawaban)\n",
    "nc4 = accuracy_score(y_test,y_jawaban)\n",
    "\n",
    "rf =  RandomForestClassifier()\n",
    "rf.fit(x_smote,y_smote) \n",
    "y_jawaban = rf.predict(x_test)\n",
    "rf1 = precision_score(y_test,y_jawaban)\n",
    "rf2 = recall_score(y_test,y_jawaban)\n",
    "rf3 = f1_score(y_test,y_jawaban)\n",
    "rf4 = accuracy_score(y_test,y_jawaban)\n",
    "\n",
    "gb =  GradientBoostingClassifier()\n",
    "gb.fit(x_smote,y_smote) \n",
    "y_jawaban = gb.predict(x_test)\n",
    "gb1 = precision_score(y_test,y_jawaban)\n",
    "gb2 = recall_score(y_test,y_jawaban)\n",
    "gb3 = f1_score(y_test,y_jawaban)\n",
    "gb4 = accuracy_score(y_test,y_jawaban)\n",
    "\n",
    "dt =  DecisionTreeClassifier()\n",
    "dt.fit(x_smote,y_smote) \n",
    "y_jawaban = dt.predict(x_test)\n",
    "dt1 = precision_score(y_test,y_jawaban)\n",
    "dt2 = recall_score(y_test,y_jawaban)\n",
    "dt3 = f1_score(y_test,y_jawaban)\n",
    "dt4 = accuracy_score(y_test,y_jawaban)\n",
    "\n",
    "x =  XGBClassifier()\n",
    "x.fit(x_smote,y_smote) \n",
    "y_jawaban = x.predict(x_test)\n",
    "x1 = precision_score(y_test,y_jawaban)\n",
    "x2 = recall_score(y_test,y_jawaban)\n",
    "x3 = f1_score(y_test,y_jawaban)\n",
    "x4 = accuracy_score(y_test,y_jawaban)\n",
    "\n",
    "ml =  MLPClassifier()\n",
    "ml.fit(x_smote,y_smote) \n",
    "y_jawaban = ml.predict(x_test)\n",
    "ml1 = precision_score(y_test,y_jawaban)\n",
    "ml2 = recall_score(y_test,y_jawaban)\n",
    "ml3 = f1_score(y_test,y_jawaban)\n",
    "ml4 = accuracy_score(y_test,y_jawaban)"
   ]
  },
  {
   "cell_type": "code",
   "execution_count": 80,
   "metadata": {
    "colab": {
     "base_uri": "https://localhost:8080/",
     "height": 426
    },
    "executionInfo": {
     "elapsed": 477,
     "status": "ok",
     "timestamp": 1638787159618,
     "user": {
      "displayName": "006_Berryl Bagas",
      "photoUrl": "https://lh3.googleusercontent.com/a-/AOh14GiDZMNEtuSWWuS-fsix3MeuvW88AemkkLEu8OFTyg=s64",
      "userId": "09798621404980976797"
     },
     "user_tz": -420
    },
    "id": "w-WaVJ_OxDzc",
    "outputId": "eb637d8c-4d15-47d3-b5da-b62277515a1e"
   },
   "outputs": [
    {
     "data": {
      "text/html": [
       "<div>\n",
       "<style scoped>\n",
       "    .dataframe tbody tr th:only-of-type {\n",
       "        vertical-align: middle;\n",
       "    }\n",
       "\n",
       "    .dataframe tbody tr th {\n",
       "        vertical-align: top;\n",
       "    }\n",
       "\n",
       "    .dataframe thead th {\n",
       "        text-align: right;\n",
       "    }\n",
       "</style>\n",
       "<table border=\"1\" class=\"dataframe\">\n",
       "  <thead>\n",
       "    <tr style=\"text-align: right;\">\n",
       "      <th></th>\n",
       "      <th>Model</th>\n",
       "      <th>Precision</th>\n",
       "      <th>Recall</th>\n",
       "      <th>F1</th>\n",
       "      <th>Accuracy</th>\n",
       "    </tr>\n",
       "  </thead>\n",
       "  <tbody>\n",
       "    <tr>\n",
       "      <th>7</th>\n",
       "      <td>GradientBoostingClassifier</td>\n",
       "      <td>0.615044</td>\n",
       "      <td>0.671498</td>\n",
       "      <td>0.642032</td>\n",
       "      <td>0.8450</td>\n",
       "    </tr>\n",
       "    <tr>\n",
       "      <th>6</th>\n",
       "      <td>RandomForestClassifier</td>\n",
       "      <td>0.616541</td>\n",
       "      <td>0.594203</td>\n",
       "      <td>0.605166</td>\n",
       "      <td>0.8395</td>\n",
       "    </tr>\n",
       "    <tr>\n",
       "      <th>10</th>\n",
       "      <td>XGBClassifier</td>\n",
       "      <td>0.587629</td>\n",
       "      <td>0.688406</td>\n",
       "      <td>0.634038</td>\n",
       "      <td>0.8355</td>\n",
       "    </tr>\n",
       "    <tr>\n",
       "      <th>11</th>\n",
       "      <td>MLPClassifier</td>\n",
       "      <td>0.535055</td>\n",
       "      <td>0.700483</td>\n",
       "      <td>0.606695</td>\n",
       "      <td>0.8120</td>\n",
       "    </tr>\n",
       "    <tr>\n",
       "      <th>8</th>\n",
       "      <td>AdaBoostClassifier</td>\n",
       "      <td>0.525394</td>\n",
       "      <td>0.724638</td>\n",
       "      <td>0.609137</td>\n",
       "      <td>0.8075</td>\n",
       "    </tr>\n",
       "    <tr>\n",
       "      <th>3</th>\n",
       "      <td>SVC</td>\n",
       "      <td>0.513605</td>\n",
       "      <td>0.729469</td>\n",
       "      <td>0.602794</td>\n",
       "      <td>0.8010</td>\n",
       "    </tr>\n",
       "    <tr>\n",
       "      <th>9</th>\n",
       "      <td>DecisionTreeClassifier</td>\n",
       "      <td>0.467710</td>\n",
       "      <td>0.577295</td>\n",
       "      <td>0.516757</td>\n",
       "      <td>0.7765</td>\n",
       "    </tr>\n",
       "    <tr>\n",
       "      <th>4</th>\n",
       "      <td>KNeighborsClassifier</td>\n",
       "      <td>0.424194</td>\n",
       "      <td>0.635266</td>\n",
       "      <td>0.508704</td>\n",
       "      <td>0.7460</td>\n",
       "    </tr>\n",
       "    <tr>\n",
       "      <th>1</th>\n",
       "      <td>SGDClassifier</td>\n",
       "      <td>0.401471</td>\n",
       "      <td>0.659420</td>\n",
       "      <td>0.499086</td>\n",
       "      <td>0.7260</td>\n",
       "    </tr>\n",
       "    <tr>\n",
       "      <th>5</th>\n",
       "      <td>NearestCentroid</td>\n",
       "      <td>0.406849</td>\n",
       "      <td>0.717391</td>\n",
       "      <td>0.519231</td>\n",
       "      <td>0.7250</td>\n",
       "    </tr>\n",
       "    <tr>\n",
       "      <th>2</th>\n",
       "      <td>LinearSVC</td>\n",
       "      <td>0.402250</td>\n",
       "      <td>0.690821</td>\n",
       "      <td>0.508444</td>\n",
       "      <td>0.7235</td>\n",
       "    </tr>\n",
       "    <tr>\n",
       "      <th>0</th>\n",
       "      <td>LogisticRegression</td>\n",
       "      <td>0.403047</td>\n",
       "      <td>0.702899</td>\n",
       "      <td>0.512324</td>\n",
       "      <td>0.7230</td>\n",
       "    </tr>\n",
       "  </tbody>\n",
       "</table>\n",
       "</div>"
      ],
      "text/plain": [
       "                         Model  Precision    Recall        F1  Accuracy\n",
       "7   GradientBoostingClassifier   0.615044  0.671498  0.642032    0.8450\n",
       "6       RandomForestClassifier   0.616541  0.594203  0.605166    0.8395\n",
       "10               XGBClassifier   0.587629  0.688406  0.634038    0.8355\n",
       "11               MLPClassifier   0.535055  0.700483  0.606695    0.8120\n",
       "8           AdaBoostClassifier   0.525394  0.724638  0.609137    0.8075\n",
       "3                          SVC   0.513605  0.729469  0.602794    0.8010\n",
       "9       DecisionTreeClassifier   0.467710  0.577295  0.516757    0.7765\n",
       "4         KNeighborsClassifier   0.424194  0.635266  0.508704    0.7460\n",
       "1                SGDClassifier   0.401471  0.659420  0.499086    0.7260\n",
       "5              NearestCentroid   0.406849  0.717391  0.519231    0.7250\n",
       "2                    LinearSVC   0.402250  0.690821  0.508444    0.7235\n",
       "0           LogisticRegression   0.403047  0.702899  0.512324    0.7230"
      ]
     },
     "execution_count": 80,
     "metadata": {},
     "output_type": "execute_result"
    }
   ],
   "source": [
    "dic = {'Model':['LogisticRegression','SGDClassifier','LinearSVC','SVC','KNeighborsClassifier','NearestCentroid','RandomForestClassifier',\n",
    "                'GradientBoostingClassifier','AdaBoostClassifier','DecisionTreeClassifier','XGBClassifier','MLPClassifier'],\n",
    "       'Precision':[lr1,sdg1,lv1,sv1,knn1,nc1,rf1,gb1,ad1,dt1,x1,ml1],\n",
    "       'Recall':[lr2,sdg2,lv2,sv2,knn2,nc2,rf2,gb2,ad2,dt2,x2,ml2],\n",
    "       'F1':[lr3,sdg3,lv3,sv3,knn3,nc3,rf3,gb3,ad3,dt3,x3,ml3],\n",
    "       'Accuracy':[lr4,sdg4,lv4,sv4,knn4,nc4,rf4,gb4,ad4,dt4,x4,ml4]}\n",
    "compare = pd.DataFrame(dic)\n",
    "compare.sort_values(by='Accuracy',ascending=False)"
   ]
  },
  {
   "cell_type": "markdown",
   "metadata": {
    "id": "3DXWgRvnz94G"
   },
   "source": [
    "Model awal yang memiliki accuracy paling tinggi yaitu:\n",
    " \n",
    "\n",
    "*   GradientBoostingClassifier\n",
    "*   RandomForestClassifier"
   ]
  },
  {
   "cell_type": "markdown",
   "metadata": {
    "id": "y4UMEZDXnS35"
   },
   "source": [
    "# Tuning Hyperparameter"
   ]
  },
  {
   "cell_type": "markdown",
   "metadata": {
    "id": "izSMvuA34vGo"
   },
   "source": [
    "Selajutnya saya akan memilih 2 model awal dengan nilai Accuracy tertinggi (GradientBoostingClassifier dan RandomForestClassifier) untuk dilakukannya Tuning Hyperparameter "
   ]
  },
  {
   "cell_type": "markdown",
   "metadata": {
    "id": "VATkYdk62Mrq"
   },
   "source": [
    "## Model Tuning Train-Test"
   ]
  },
  {
   "cell_type": "code",
   "execution_count": 93,
   "metadata": {
    "colab": {
     "base_uri": "https://localhost:8080/",
     "height": 175
    },
    "executionInfo": {
     "elapsed": 71689,
     "status": "ok",
     "timestamp": 1638790381834,
     "user": {
      "displayName": "006_Berryl Bagas",
      "photoUrl": "https://lh3.googleusercontent.com/a-/AOh14GiDZMNEtuSWWuS-fsix3MeuvW88AemkkLEu8OFTyg=s64",
      "userId": "09798621404980976797"
     },
     "user_tz": -420
    },
    "id": "epWL8nQE2Q-p",
    "outputId": "33d03515-643c-43d5-a293-225c9c83f699"
   },
   "outputs": [
    {
     "data": {
      "text/html": [
       "<div>\n",
       "<style scoped>\n",
       "    .dataframe tbody tr th:only-of-type {\n",
       "        vertical-align: middle;\n",
       "    }\n",
       "\n",
       "    .dataframe tbody tr th {\n",
       "        vertical-align: top;\n",
       "    }\n",
       "\n",
       "    .dataframe thead th {\n",
       "        text-align: right;\n",
       "    }\n",
       "</style>\n",
       "<table border=\"1\" class=\"dataframe\">\n",
       "  <thead>\n",
       "    <tr style=\"text-align: right;\">\n",
       "      <th></th>\n",
       "      <th>Model</th>\n",
       "      <th>Precision</th>\n",
       "      <th>Recall</th>\n",
       "      <th>F1</th>\n",
       "      <th>Accuracy</th>\n",
       "    </tr>\n",
       "  </thead>\n",
       "  <tbody>\n",
       "    <tr>\n",
       "      <th>0</th>\n",
       "      <td>GradientBoostingClassifier</td>\n",
       "      <td>0.616408</td>\n",
       "      <td>0.671498</td>\n",
       "      <td>0.642775</td>\n",
       "      <td>0.8455</td>\n",
       "    </tr>\n",
       "    <tr>\n",
       "      <th>1</th>\n",
       "      <td>Tuning GradientBoostingClassifier</td>\n",
       "      <td>0.685015</td>\n",
       "      <td>0.541063</td>\n",
       "      <td>0.604588</td>\n",
       "      <td>0.8535</td>\n",
       "    </tr>\n",
       "    <tr>\n",
       "      <th>2</th>\n",
       "      <td>RandomForestClassifier</td>\n",
       "      <td>0.619898</td>\n",
       "      <td>0.586957</td>\n",
       "      <td>0.602978</td>\n",
       "      <td>0.8400</td>\n",
       "    </tr>\n",
       "    <tr>\n",
       "      <th>3</th>\n",
       "      <td>Tuning RandomForestClassifier</td>\n",
       "      <td>0.598131</td>\n",
       "      <td>0.618357</td>\n",
       "      <td>0.608076</td>\n",
       "      <td>0.8350</td>\n",
       "    </tr>\n",
       "  </tbody>\n",
       "</table>\n",
       "</div>"
      ],
      "text/plain": [
       "                               Model  Precision    Recall        F1  Accuracy\n",
       "0         GradientBoostingClassifier   0.616408  0.671498  0.642775    0.8455\n",
       "1  Tuning GradientBoostingClassifier   0.685015  0.541063  0.604588    0.8535\n",
       "2             RandomForestClassifier   0.619898  0.586957  0.602978    0.8400\n",
       "3      Tuning RandomForestClassifier   0.598131  0.618357  0.608076    0.8350"
      ]
     },
     "execution_count": 93,
     "metadata": {},
     "output_type": "execute_result"
    }
   ],
   "source": [
    "gb =  GradientBoostingClassifier()\n",
    "gb.fit(x_smote,y_smote) \n",
    "y_jawaban = gb.predict(x_test)\n",
    "gb1 = precision_score(y_test,y_jawaban)\n",
    "gb2 = recall_score(y_test,y_jawaban)\n",
    "gb3 = f1_score(y_test,y_jawaban)\n",
    "gb4 = accuracy_score(y_test,y_jawaban)\n",
    "\n",
    "gridgb =  GradientBoostingClassifier(n_estimators=500,max_depth=15)\n",
    "gridgb.fit(x_smote,y_smote) \n",
    "y_jawaban = gridgb.predict(x_test)\n",
    "gridgb1 = precision_score(y_test,y_jawaban)\n",
    "gridgb2 = recall_score(y_test,y_jawaban)\n",
    "gridgb3 = f1_score(y_test,y_jawaban)\n",
    "gridgb4 = accuracy_score(y_test,y_jawaban)\n",
    "\n",
    "rf =  RandomForestClassifier()\n",
    "rf.fit(x_smote,y_smote) \n",
    "y_jawaban = rf.predict(x_test)\n",
    "rf1 = precision_score(y_test,y_jawaban)\n",
    "rf2 = recall_score(y_test,y_jawaban)\n",
    "rf3 = f1_score(y_test,y_jawaban)\n",
    "rf4 = accuracy_score(y_test,y_jawaban)\n",
    "\n",
    "gridrf =  RandomForestClassifier(criterion='gini',n_estimators=200,max_depth=15)\n",
    "gridrf.fit(x_smote,y_smote) \n",
    "y_jawaban = gridrf.predict(x_test)\n",
    "gridrf1 = precision_score(y_test,y_jawaban)\n",
    "gridrf2 = recall_score(y_test,y_jawaban)\n",
    "gridrf3 = f1_score(y_test,y_jawaban)\n",
    "gridrf4 = accuracy_score(y_test,y_jawaban)\n",
    "\n",
    "\n",
    "dic = {'Model':['GradientBoostingClassifier','Tuning GradientBoostingClassifier','RandomForestClassifier','Tuning RandomForestClassifier'],\n",
    "       'Precision':[gb1,gridgb1,rf1,gridrf1],\n",
    "       'Recall':[gb2,gridgb2,rf2,gridrf2],\n",
    "       'F1':[gb3,gridgb3,rf3,gridrf3],\n",
    "       'Accuracy':[gb4,gridgb4,rf4,gridrf4]}\n",
    "compare = pd.DataFrame(dic)\n",
    "compare"
   ]
  },
  {
   "cell_type": "markdown",
   "metadata": {
    "id": "GVWHJ_A6nXKf"
   },
   "source": [
    "# Model Evaluation"
   ]
  },
  {
   "cell_type": "code",
   "execution_count": 95,
   "metadata": {
    "colab": {
     "base_uri": "https://localhost:8080/",
     "height": 175
    },
    "executionInfo": {
     "elapsed": 133388,
     "status": "ok",
     "timestamp": 1638790735021,
     "user": {
      "displayName": "006_Berryl Bagas",
      "photoUrl": "https://lh3.googleusercontent.com/a-/AOh14GiDZMNEtuSWWuS-fsix3MeuvW88AemkkLEu8OFTyg=s64",
      "userId": "09798621404980976797"
     },
     "user_tz": -420
    },
    "id": "-aURQ7PK3PeC",
    "outputId": "b0bfe2df-0eab-4323-96af-d208a6b2311e"
   },
   "outputs": [
    {
     "data": {
      "text/html": [
       "<div>\n",
       "<style scoped>\n",
       "    .dataframe tbody tr th:only-of-type {\n",
       "        vertical-align: middle;\n",
       "    }\n",
       "\n",
       "    .dataframe tbody tr th {\n",
       "        vertical-align: top;\n",
       "    }\n",
       "\n",
       "    .dataframe thead th {\n",
       "        text-align: right;\n",
       "    }\n",
       "</style>\n",
       "<table border=\"1\" class=\"dataframe\">\n",
       "  <thead>\n",
       "    <tr style=\"text-align: right;\">\n",
       "      <th></th>\n",
       "      <th>Model</th>\n",
       "      <th>Data</th>\n",
       "      <th>Precision</th>\n",
       "      <th>Recall</th>\n",
       "      <th>F1</th>\n",
       "      <th>Accuracy</th>\n",
       "    </tr>\n",
       "  </thead>\n",
       "  <tbody>\n",
       "    <tr>\n",
       "      <th>0</th>\n",
       "      <td>Tuning GradientBoostingClassifier</td>\n",
       "      <td>Testing</td>\n",
       "      <td>0.684685</td>\n",
       "      <td>0.550725</td>\n",
       "      <td>0.610442</td>\n",
       "      <td>0.854500</td>\n",
       "    </tr>\n",
       "    <tr>\n",
       "      <th>1</th>\n",
       "      <td>Tuning GradientBoostingClassifier</td>\n",
       "      <td>Training</td>\n",
       "      <td>1.000000</td>\n",
       "      <td>1.000000</td>\n",
       "      <td>1.000000</td>\n",
       "      <td>1.000000</td>\n",
       "    </tr>\n",
       "    <tr>\n",
       "      <th>2</th>\n",
       "      <td>Tuning RandomForestClassifier</td>\n",
       "      <td>Testing</td>\n",
       "      <td>0.589569</td>\n",
       "      <td>0.628019</td>\n",
       "      <td>0.608187</td>\n",
       "      <td>0.832500</td>\n",
       "    </tr>\n",
       "    <tr>\n",
       "      <th>3</th>\n",
       "      <td>Tuning RandomForestClassifier</td>\n",
       "      <td>Training</td>\n",
       "      <td>0.928322</td>\n",
       "      <td>0.981516</td>\n",
       "      <td>0.954178</td>\n",
       "      <td>0.980875</td>\n",
       "    </tr>\n",
       "  </tbody>\n",
       "</table>\n",
       "</div>"
      ],
      "text/plain": [
       "                               Model      Data  ...        F1  Accuracy\n",
       "0  Tuning GradientBoostingClassifier   Testing  ...  0.610442  0.854500\n",
       "1  Tuning GradientBoostingClassifier  Training  ...  1.000000  1.000000\n",
       "2      Tuning RandomForestClassifier   Testing  ...  0.608187  0.832500\n",
       "3      Tuning RandomForestClassifier  Training  ...  0.954178  0.980875\n",
       "\n",
       "[4 rows x 6 columns]"
      ]
     },
     "execution_count": 95,
     "metadata": {},
     "output_type": "execute_result"
    }
   ],
   "source": [
    "gb =  GradientBoostingClassifier(n_estimators=500,max_depth=15)\n",
    "gb.fit(x_smote,y_smote) \n",
    "y_jawaban = gb.predict(x_test)\n",
    "gb1 = precision_score(y_test,y_jawaban)\n",
    "gb2 = recall_score(y_test,y_jawaban)\n",
    "gb3 = f1_score(y_test,y_jawaban)\n",
    "gb4 = accuracy_score(y_test,y_jawaban)\n",
    "\n",
    "gridgb =  GradientBoostingClassifier(n_estimators=500,max_depth=15)\n",
    "gridgb.fit(x_smote,y_smote) \n",
    "y_jawaban = gridgb.predict(x_train)\n",
    "gridgb1 = precision_score(y_train,y_jawaban)\n",
    "gridgb2 = recall_score(y_train,y_jawaban)\n",
    "gridgb3 = f1_score(y_train,y_jawaban)\n",
    "gridgb4 = accuracy_score(y_train,y_jawaban)\n",
    "\n",
    "rf =  RandomForestClassifier(criterion='gini',n_estimators=200,max_depth=15)\n",
    "rf.fit(x_smote,y_smote) \n",
    "y_jawaban = rf.predict(x_test)\n",
    "rf1 = precision_score(y_test,y_jawaban)\n",
    "rf2 = recall_score(y_test,y_jawaban)\n",
    "rf3 = f1_score(y_test,y_jawaban)\n",
    "rf4 = accuracy_score(y_test,y_jawaban)\n",
    "\n",
    "gridrf =  RandomForestClassifier(criterion='gini',n_estimators=200,max_depth=15)\n",
    "gridrf.fit(x_smote,y_smote) \n",
    "y_jawaban = gridrf.predict(x_train)\n",
    "gridrf1 = precision_score(y_train,y_jawaban)\n",
    "gridrf2 = recall_score(y_train,y_jawaban)\n",
    "gridrf3 = f1_score(y_train,y_jawaban)\n",
    "gridrf4 = accuracy_score(y_train,y_jawaban)\n",
    "\n",
    "\n",
    "dic = {'Model':['Tuning GradientBoostingClassifier','Tuning GradientBoostingClassifier','Tuning RandomForestClassifier','Tuning RandomForestClassifier'],\n",
    "       'Data':['Testing','Training','Testing','Training'],\n",
    "       'Precision':[gb1,gridgb1,rf1,gridrf1],\n",
    "       'Recall':[gb2,gridgb2,rf2,gridrf2],\n",
    "       'F1':[gb3,gridgb3,rf3,gridrf3],\n",
    "       'Accuracy':[gb4,gridgb4,rf4,gridrf4]}\n",
    "compare = pd.DataFrame(dic)\n",
    "compare"
   ]
  },
  {
   "cell_type": "markdown",
   "metadata": {
    "id": "oOgQYG-Q3hln"
   },
   "source": [
    "Model Tuning RandomForestClassifier lebih baik karena tidak overfit"
   ]
  },
  {
   "cell_type": "markdown",
   "metadata": {
    "id": "QaS97zsX7Tng"
   },
   "source": [
    "# Predict Example (Tuning RandomForestClassifier)"
   ]
  },
  {
   "cell_type": "code",
   "execution_count": 98,
   "metadata": {
    "colab": {
     "base_uri": "https://localhost:8080/",
     "height": 267
    },
    "executionInfo": {
     "elapsed": 4132,
     "status": "ok",
     "timestamp": 1638790927023,
     "user": {
      "displayName": "006_Berryl Bagas",
      "photoUrl": "https://lh3.googleusercontent.com/a-/AOh14GiDZMNEtuSWWuS-fsix3MeuvW88AemkkLEu8OFTyg=s64",
      "userId": "09798621404980976797"
     },
     "user_tz": -420
    },
    "id": "LjdNbuom7YbB",
    "outputId": "1fe04dc8-3b6a-42d4-9ea7-06cacdf7d137"
   },
   "outputs": [
    {
     "data": {
      "image/png": "[encoded data removed]",
      "text/plain": [
       "<Figure size 432x288 with 1 Axes>"
      ]
     },
     "metadata": {},
     "output_type": "display_data"
    }
   ],
   "source": [
    "rf =  RandomForestClassifier(criterion='gini',n_estimators=200,max_depth=15)\n",
    "rf.fit(x_smote,y_smote) \n",
    "y_jawaban = rf.predict(x_test.head(20))\n",
    "x_ax = range(len(x_test.head(20)))\n",
    "plt.scatter(x_ax, y_test.head(20), s=5, color=\"blue\", label=\"Nilai_Aktual\")\n",
    "plt.plot(x_ax, y_jawaban, lw=0.8, color=\"red\", label=\"Nilai_Prediksi)\")\n",
    "plt.legend()\n",
    "plt.show()"
   ]
  },
  {
   "cell_type": "code",
   "execution_count": 100,
   "metadata": {
    "colab": {
     "base_uri": "https://localhost:8080/",
     "height": 676
    },
    "executionInfo": {
     "elapsed": 744,
     "status": "ok",
     "timestamp": 1638791053029,
     "user": {
      "displayName": "006_Berryl Bagas",
      "photoUrl": "https://lh3.googleusercontent.com/a-/AOh14GiDZMNEtuSWWuS-fsix3MeuvW88AemkkLEu8OFTyg=s64",
      "userId": "09798621404980976797"
     },
     "user_tz": -420
    },
    "id": "1pR8qq977nAj",
    "outputId": "84c97fc4-6dda-4e54-ffd1-49477eb40f98"
   },
   "outputs": [
    {
     "data": {
      "text/html": [
       "<div>\n",
       "<style scoped>\n",
       "    .dataframe tbody tr th:only-of-type {\n",
       "        vertical-align: middle;\n",
       "    }\n",
       "\n",
       "    .dataframe tbody tr th {\n",
       "        vertical-align: top;\n",
       "    }\n",
       "\n",
       "    .dataframe thead th {\n",
       "        text-align: right;\n",
       "    }\n",
       "</style>\n",
       "<table border=\"1\" class=\"dataframe\">\n",
       "  <thead>\n",
       "    <tr style=\"text-align: right;\">\n",
       "      <th></th>\n",
       "      <th>Nilai_Aktual</th>\n",
       "      <th>Nilai_Prediksi</th>\n",
       "    </tr>\n",
       "  </thead>\n",
       "  <tbody>\n",
       "    <tr>\n",
       "      <th>0</th>\n",
       "      <td>0</td>\n",
       "      <td>0</td>\n",
       "    </tr>\n",
       "    <tr>\n",
       "      <th>1</th>\n",
       "      <td>0</td>\n",
       "      <td>0</td>\n",
       "    </tr>\n",
       "    <tr>\n",
       "      <th>2</th>\n",
       "      <td>0</td>\n",
       "      <td>0</td>\n",
       "    </tr>\n",
       "    <tr>\n",
       "      <th>3</th>\n",
       "      <td>0</td>\n",
       "      <td>0</td>\n",
       "    </tr>\n",
       "    <tr>\n",
       "      <th>4</th>\n",
       "      <td>0</td>\n",
       "      <td>1</td>\n",
       "    </tr>\n",
       "    <tr>\n",
       "      <th>5</th>\n",
       "      <td>0</td>\n",
       "      <td>0</td>\n",
       "    </tr>\n",
       "    <tr>\n",
       "      <th>6</th>\n",
       "      <td>1</td>\n",
       "      <td>0</td>\n",
       "    </tr>\n",
       "    <tr>\n",
       "      <th>7</th>\n",
       "      <td>1</td>\n",
       "      <td>1</td>\n",
       "    </tr>\n",
       "    <tr>\n",
       "      <th>8</th>\n",
       "      <td>0</td>\n",
       "      <td>0</td>\n",
       "    </tr>\n",
       "    <tr>\n",
       "      <th>9</th>\n",
       "      <td>0</td>\n",
       "      <td>0</td>\n",
       "    </tr>\n",
       "    <tr>\n",
       "      <th>10</th>\n",
       "      <td>0</td>\n",
       "      <td>0</td>\n",
       "    </tr>\n",
       "    <tr>\n",
       "      <th>11</th>\n",
       "      <td>0</td>\n",
       "      <td>0</td>\n",
       "    </tr>\n",
       "    <tr>\n",
       "      <th>12</th>\n",
       "      <td>0</td>\n",
       "      <td>1</td>\n",
       "    </tr>\n",
       "    <tr>\n",
       "      <th>13</th>\n",
       "      <td>0</td>\n",
       "      <td>0</td>\n",
       "    </tr>\n",
       "    <tr>\n",
       "      <th>14</th>\n",
       "      <td>0</td>\n",
       "      <td>0</td>\n",
       "    </tr>\n",
       "    <tr>\n",
       "      <th>15</th>\n",
       "      <td>0</td>\n",
       "      <td>0</td>\n",
       "    </tr>\n",
       "    <tr>\n",
       "      <th>16</th>\n",
       "      <td>0</td>\n",
       "      <td>0</td>\n",
       "    </tr>\n",
       "    <tr>\n",
       "      <th>17</th>\n",
       "      <td>0</td>\n",
       "      <td>1</td>\n",
       "    </tr>\n",
       "    <tr>\n",
       "      <th>18</th>\n",
       "      <td>0</td>\n",
       "      <td>0</td>\n",
       "    </tr>\n",
       "    <tr>\n",
       "      <th>19</th>\n",
       "      <td>1</td>\n",
       "      <td>1</td>\n",
       "    </tr>\n",
       "  </tbody>\n",
       "</table>\n",
       "</div>"
      ],
      "text/plain": [
       "   Nilai_Aktual  Nilai_Prediksi\n",
       "0             0               0\n",
       "1             0               0\n",
       "2             0               0\n",
       "3             0               0\n",
       "4             0               1\n",
       "5             0               0\n",
       "6             1               0\n",
       "7             1               1\n",
       "8             0               0\n",
       "9             0               0\n",
       "10            0               0\n",
       "11            0               0\n",
       "12            0               1\n",
       "13            0               0\n",
       "14            0               0\n",
       "15            0               0\n",
       "16            0               0\n",
       "17            0               1\n",
       "18            0               0\n",
       "19            1               1"
      ]
     },
     "execution_count": 100,
     "metadata": {},
     "output_type": "execute_result"
    }
   ],
   "source": [
    "b = y_test.head(20).reset_index()\n",
    "b.drop('index',axis=1,inplace=True)\n",
    "b= b.rename(columns={'Exited':'Nilai_Aktual'})\n",
    "c = pd.DataFrame(y_jawaban)\n",
    "c= c.rename(columns={0:'Nilai_Prediksi'})\n",
    "predict = [b,c]\n",
    "predict = pd.concat(predict,axis=1,join='inner')\n",
    "predict"
   ]
  },
  {
   "cell_type": "markdown",
   "metadata": {
    "id": "vMacSon6nal_"
   },
   "source": [
    "# Kesimpulan dan Saran"
   ]
  },
  {
   "cell_type": "markdown",
   "metadata": {
    "id": "Tt7RsfEW5nf_"
   },
   "source": [
    "## Kesimpulan"
   ]
  },
  {
   "cell_type": "markdown",
   "metadata": {
    "id": "RVsnFgKJ1hPt"
   },
   "source": [
    "Dari hasil analisis deskriptif didapatkan negara customer yang jarang mengalami churn yaitu spain sedangkan untuk jenis kelamin yang sering mengalami churn yaitu wanita."
   ]
  },
  {
   "cell_type": "markdown",
   "metadata": {
    "id": "WWPb5Fz41utp"
   },
   "source": [
    "Didapatkan model klasifikasi terbaik menggunakan RandomForestClassifier dengan nilai accuracy sebesar 0.8325 atau 83,25%"
   ]
  }
 ],
 "metadata": {
  "colab": {
   "authorship_tag": "ABX9TyOyKe3fVcP6K6sHHM1RlPZX",
   "collapsed_sections": [],
   "name": "Prediksi Churn Customer Bank.ipynb",
   "provenance": [
    {
     "file_id": "1hTCn5VhLPRep3CKi4gGs2SP-568pwysS",
     "timestamp": 1638778987472
    }
   ]
  },
  "kernelspec": {
   "display_name": "Python 3",
   "language": "python",
   "name": "python3"
  },
  "language_info": {
   "codemirror_mode": {
    "name": "ipython",
    "version": 3
   },
   "file_extension": ".py",
   "mimetype": "text/x-python",
   "name": "python",
   "nbconvert_exporter": "python",
   "pygments_lexer": "ipython3",
   "version": "3.8.8"
  }
 },
 "nbformat": 4,
 "nbformat_minor": 1
}
